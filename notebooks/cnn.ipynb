{
 "cells": [
  {
   "cell_type": "markdown",
   "metadata": {},
   "source": [
    "### Verify CUDA is available for GPU"
   ]
  },
  {
   "cell_type": "code",
   "execution_count": 15,
   "metadata": {},
   "outputs": [
    {
     "name": "stdout",
     "output_type": "stream",
     "text": [
      "CUDA is available.\n",
      "CUDA device name: NVIDIA GeForce RTX 3070\n"
     ]
    }
   ],
   "source": [
    "import torch\n",
    "\n",
    "if torch.cuda.is_available():\n",
    "    print(\"CUDA is available.\")\n",
    "    device_id = torch.cuda.current_device()\n",
    "    device_name = torch.cuda.get_device_name(device_id)\n",
    "    print(f\"CUDA device name: {device_name}\")\n",
    "else:\n",
    "    print(\"CUDA is not available.\")\n"
   ]
  },
  {
   "cell_type": "markdown",
   "metadata": {},
   "source": [
    "### Download Data\n",
    "\n",
    "The dataset used in this project is the **MNIST (Modified National Institute of Standards and Technology) dataset**, which contains **handwritten digits (0-9) in grayscale (28x28 pixels)**.\n",
    "\n",
    "- The dataset is downloaded from **torchvision.datasets.MNIST**, a PyTorch utility that handles dataset retrieval.\n",
    "- It is stored in a **binary IDX format**, rather than individual image files (e.g., PNG or JPG).\n",
    "- The raw dataset is located in `data/MNIST/raw/` and consists of the following files:\n",
    "    - `train-images-idx3-ubyte` → Training images\n",
    "    - `train-labels-idx1-ubyte` → Training labels (digits 0-9)\n",
    "    - `t10k-images-idx3-ubyte` → Test images\n",
    "    - `t10k-labels-idx1-ubyte` → Test labels\n",
    "\n",
    "To avoid unnecessary re-downloading, the script checks if these files already exist before downloading them."
   ]
  },
  {
   "cell_type": "code",
   "execution_count": 16,
   "metadata": {},
   "outputs": [
    {
     "name": "stdout",
     "output_type": "stream",
     "text": [
      "MNIST dataset already exists. Skipping download.\n",
      "Train set size: 60000 images\n",
      "Test set size: 10000 images\n"
     ]
    }
   ],
   "source": [
    "import os\n",
    "from torchvision import datasets, transforms\n",
    "from PIL import Image\n",
    "\n",
    "# Define the root data directory\n",
    "data_root = \"../data\"\n",
    "\n",
    "# Define expected MNIST data files\n",
    "mnist_files = [\n",
    "    \"MNIST/raw/train-images-idx3-ubyte\",\n",
    "    \"MNIST/raw/train-labels-idx1-ubyte\",\n",
    "    \"MNIST/raw/t10k-images-idx3-ubyte\",\n",
    "    \"MNIST/raw/t10k-labels-idx1-ubyte\"\n",
    "]\n",
    "\n",
    "# Check if MNIST data exists\n",
    "if all(os.path.exists(os.path.join(data_root, f)) for f in mnist_files):\n",
    "    print(\"MNIST dataset already exists. Skipping download.\")\n",
    "else:\n",
    "    print(\"Downloading MNIST dataset...\")\n",
    "\n",
    "# Define transformations (convert to tensor)\n",
    "transform = transforms.Compose([transforms.ToTensor()])\n",
    "\n",
    "# Load dataset\n",
    "train_dataset = datasets.MNIST(root=data_root, train=True, download=True, transform=transform)\n",
    "test_dataset = datasets.MNIST(root=data_root, train=False, download=True, transform=transform)\n",
    "\n",
    "print(f\"Train set size: {len(train_dataset)} images\")\n",
    "print(f\"Test set size: {len(test_dataset)} images\")"
   ]
  },
  {
   "cell_type": "markdown",
   "metadata": {},
   "source": [
    "### Print a sample image"
   ]
  },
  {
   "cell_type": "code",
   "execution_count": 17,
   "metadata": {},
   "outputs": [
    {
     "data": {
      "image/png": "[encoded data removed]",
      "text/plain": [
       "<Figure size 640x480 with 1 Axes>"
      ]
     },
     "metadata": {},
     "output_type": "display_data"
    }
   ],
   "source": [
    "import matplotlib.pyplot as plt\n",
    "from torchvision import transforms\n",
    "\n",
    "# Get a single sample image and label\n",
    "sample_img_tensor, label = train_dataset[0]\n",
    "\n",
    "# Convert tensor to PIL image in memory\n",
    "to_pil = transforms.ToPILImage()\n",
    "sample_img_pil = to_pil(sample_img_tensor)\n",
    "\n",
    "# Save to ../data/sample.png\n",
    "sample_img_pil.save(\"../data/sample.png\")\n",
    "\n",
    "# Display the image\n",
    "plt.imshow(sample_img_pil, cmap=\"gray\")\n",
    "plt.title(f\"Sample Image - Label {label}\")\n",
    "plt.axis(\"off\")\n",
    "plt.show()"
   ]
  },
  {
   "cell_type": "markdown",
   "metadata": {},
   "source": [
    "### Creating Data Loaders\n",
    "\n",
    "We use PyTorch’s **DataLoader** to efficiently load the MNIST dataset:\n",
    "- **Batching:** We group images into batches of `64` for faster training.\n",
    "- **Shuffling:** We shuffle the training data to improve generalization.\n",
    "- **Parallelization:** Data loading is optimized to speed up processing.\n",
    "\n",
    "We define:\n",
    "- `train_loader` → Provides batches for training.\n",
    "- `test_loader` → Provides batches for testing (without shuffling)."
   ]
  },
  {
   "cell_type": "code",
   "execution_count": 18,
   "metadata": {},
   "outputs": [
    {
     "name": "stdout",
     "output_type": "stream",
     "text": [
      "Batch size: torch.Size([64, 1, 28, 28])\n"
     ]
    }
   ],
   "source": [
    "from torch.utils.data import DataLoader\n",
    "\n",
    "# Define batch size\n",
    "batch_size = 64\n",
    "\n",
    "# Create DataLoader objects for training and testing\n",
    "train_loader = DataLoader(train_dataset, batch_size=batch_size, shuffle=True)\n",
    "test_loader = DataLoader(test_dataset, batch_size=batch_size, shuffle=False)\n",
    "\n",
    "# Verify the first batch size\n",
    "images, labels = next(iter(train_loader))\n",
    "print(f\"Batch size: {images.shape}\")  # Should be (64, 1, 28, 28)"
   ]
  },
  {
   "cell_type": "markdown",
   "metadata": {},
   "source": [
    "### CNN Model Architecture\n",
    "\n",
    "We define a convolutional neural network (CNN) to classify MNIST handwritten digits. The architecture includes:\n",
    "\n",
    "1. **Two convolutional layers** to extract spatial features from images.\n",
    "2. **ReLU activation functions** to introduce non-linearity.\n",
    "3. **Max pooling layers** to downsample feature maps.\n",
    "4. **Fully connected (dense) layers** to classify the extracted features.\n",
    "5. **Softmax activation** for final classification into 10 digit classes (0-9)."
   ]
  },
  {
   "cell_type": "code",
   "execution_count": 19,
   "metadata": {},
   "outputs": [
    {
     "name": "stdout",
     "output_type": "stream",
     "text": [
      "Successfully imported CNN!\n"
     ]
    }
   ],
   "source": [
    "import sys\n",
    "import os\n",
    "\n",
    "# Get the absolute path of the project root directory\n",
    "project_root = os.path.abspath(os.path.join(os.getcwd(), \"..\"))\n",
    "\n",
    "# Add 'model/' to Python's module path\n",
    "sys.path.append(os.path.join(project_root, \"model\"))\n",
    "\n",
    "# Now import CNN\n",
    "from model import CNN  # Import CNN from model/model.py\n",
    "\n",
    "# Confirm it works\n",
    "print(\"Successfully imported CNN!\")"
   ]
  },
  {
   "cell_type": "markdown",
   "metadata": {},
   "source": [
    "### Instantiating the Model\n",
    "\n",
    "Now, we initialize our CNN model and move it to the **GPU** for faster training if CUDA is available."
   ]
  },
  {
   "cell_type": "code",
   "execution_count": 20,
   "metadata": {},
   "outputs": [
    {
     "name": "stdout",
     "output_type": "stream",
     "text": [
      "CNN(\n",
      "  (conv1): Conv2d(1, 32, kernel_size=(3, 3), stride=(1, 1), padding=(1, 1))\n",
      "  (conv2): Conv2d(32, 64, kernel_size=(3, 3), stride=(1, 1), padding=(1, 1))\n",
      "  (fc1): Linear(in_features=3136, out_features=128, bias=True)\n",
      "  (fc2): Linear(in_features=128, out_features=10, bias=True)\n",
      ")\n"
     ]
    }
   ],
   "source": [
    "# Instantiate the model\n",
    "model = CNN()\n",
    "\n",
    "# Move to GPU if available\n",
    "device = torch.device(\"cuda\" if torch.cuda.is_available() else \"cpu\")\n",
    "model.to(device)\n",
    "\n",
    "# Print model architecture\n",
    "print(model)"
   ]
  },
  {
   "cell_type": "markdown",
   "metadata": {},
   "source": [
    "### Defining the Loss Function & Optimizer\n",
    "\n",
    "To train the CNN, we need:\n",
    "- A **loss function** to measure how well the model is performing.  \n",
    "  - We use **Negative Log-Likelihood Loss (NLLLoss)**, which is commonly used with `log_softmax()`.  \n",
    "- An **optimizer** to update model weights during training.  \n",
    "  - We use **Adam optimizer**, which adapts the learning rate for efficient updates.  "
   ]
  },
  {
   "cell_type": "code",
   "execution_count": 21,
   "metadata": {},
   "outputs": [],
   "source": [
    "import torch.nn as nn\n",
    "import torch.optim as optim\n",
    "\n",
    "# Define loss function\n",
    "criterion = nn.NLLLoss()\n",
    "\n",
    "# Define optimizer\n",
    "optimizer = optim.Adam(model.parameters(), lr=0.001)"
   ]
  },
  {
   "cell_type": "markdown",
   "metadata": {},
   "source": [
    "### Training the CNN\n",
    "\n",
    "We now train our model using the MNIST dataset.  \n",
    "Each epoch consists of:\n",
    "1. **Forward pass:** Compute predictions.\n",
    "2. **Loss calculation:** Compare predictions to actual labels.\n",
    "3. **Backward pass:** Compute gradients using backpropagation.\n",
    "4. **Optimizer step:** Update model weights.\n",
    "\n",
    "We shuffle training data for randomness and train for **5 epochs**."
   ]
  },
  {
   "cell_type": "code",
   "execution_count": 23,
   "metadata": {},
   "outputs": [
    {
     "name": "stdout",
     "output_type": "stream",
     "text": [
      "Epoch 1/5, Loss: 0.015575, Time: 5.68 sec\n",
      "Epoch 2/5, Loss: 0.013109, Time: 6.03 sec\n",
      "Epoch 3/5, Loss: 0.009743, Time: 5.88 sec\n",
      "Epoch 4/5, Loss: 0.010207, Time: 5.71 sec\n",
      "Epoch 5/5, Loss: 0.007864, Time: 5.99 sec\n",
      "Total Training Time: 29.29 sec\n"
     ]
    }
   ],
   "source": [
    "import time\n",
    "\n",
    "# Define number of epochs\n",
    "epochs = 5\n",
    "\n",
    "# Track total training time\n",
    "start_time = time.time()\n",
    "\n",
    "# Training loop\n",
    "for epoch in range(epochs):\n",
    "    model.train()  # Set model to training mode\n",
    "    running_loss = 0.0\n",
    "    epoch_start_time = time.time()  # Track epoch start time\n",
    "    \n",
    "    for images, labels in train_loader:\n",
    "        # Move data to GPU if available\n",
    "        images, labels = images.to(device), labels.to(device)\n",
    "        \n",
    "        # Zero the gradients\n",
    "        optimizer.zero_grad()\n",
    "        \n",
    "        # Forward pass\n",
    "        outputs = model(images)\n",
    "        \n",
    "        # Compute loss\n",
    "        loss = criterion(outputs, labels)\n",
    "        \n",
    "        # Backward pass\n",
    "        loss.backward()\n",
    "        \n",
    "        # Update weights\n",
    "        optimizer.step()\n",
    "        \n",
    "        # Accumulate loss\n",
    "        running_loss += loss.item()\n",
    "    \n",
    "    # Log epoch duration\n",
    "    epoch_time = time.time() - epoch_start_time\n",
    "    print(f\"Epoch {epoch+1}/{epochs}, Loss: {running_loss/len(train_loader):.6f}, Time: {epoch_time:.2f} sec\")\n",
    "\n",
    "# Compute total training time\n",
    "total_time = time.time() - start_time\n",
    "print(f\"Total Training Time: {total_time:.2f} sec\")"
   ]
  },
  {
   "cell_type": "markdown",
   "metadata": {},
   "source": [
    "### Evaluating the CNN\n",
    "\n",
    "After training, we assess model performance on unseen test data.\n",
    "- We **disable gradient calculations** for efficiency.\n",
    "- We compute **accuracy** to measure classification performance."
   ]
  },
  {
   "cell_type": "code",
   "execution_count": 24,
   "metadata": {},
   "outputs": [
    {
     "name": "stdout",
     "output_type": "stream",
     "text": [
      "Test Accuracy: 99.10%\n"
     ]
    }
   ],
   "source": [
    "# Set model to evaluation mode\n",
    "model.eval()\n",
    "\n",
    "# Disable gradient calculations\n",
    "correct = 0\n",
    "total = 0\n",
    "\n",
    "with torch.no_grad():\n",
    "    for images, labels in test_loader:\n",
    "        images, labels = images.to(device), labels.to(device)\n",
    "        \n",
    "        # Forward pass\n",
    "        outputs = model(images)\n",
    "        _, predicted = torch.max(outputs, 1)  # Get predicted class\n",
    "        \n",
    "        # Update metrics\n",
    "        total += labels.size(0)\n",
    "        correct += (predicted == labels).sum().item()\n",
    "\n",
    "# Compute accuracy\n",
    "accuracy = correct / total\n",
    "print(f\"Test Accuracy: {accuracy * 100:.2f}%\")"
   ]
  },
  {
   "cell_type": "markdown",
   "metadata": {},
   "source": [
    "### Visualizing Model Predictions\n",
    "\n",
    "Before saving our trained model, we display a few test images along with:\n",
    "- Their **true labels** (ground truth)\n",
    "- The **model's predictions**"
   ]
  },
  {
   "cell_type": "code",
   "execution_count": 25,
   "metadata": {},
   "outputs": [
    {
     "data": {
      "image/png": "[encoded data removed]",
      "text/plain": [
       "<Figure size 1000x500 with 10 Axes>"
      ]
     },
     "metadata": {},
     "output_type": "display_data"
    }
   ],
   "source": [
    "import matplotlib.pyplot as plt\n",
    "\n",
    "# Get a batch of test images\n",
    "images, labels = next(iter(test_loader))\n",
    "\n",
    "# Move to GPU if available\n",
    "images, labels = images.to(device), labels.to(device)\n",
    "\n",
    "# Get predictions\n",
    "model.eval()\n",
    "with torch.no_grad():\n",
    "    outputs = model(images)\n",
    "    _, predictions = torch.max(outputs, 1)  # Get predicted class\n",
    "\n",
    "# Plot some images\n",
    "fig, axes = plt.subplots(2, 5, figsize=(10, 5))  # Display 10 images (2 rows, 5 columns)\n",
    "for i, ax in enumerate(axes.flat):\n",
    "    img = images[i].cpu().squeeze()  # Move to CPU for plotting\n",
    "    ax.imshow(img, cmap=\"gray\")\n",
    "    ax.set_title(f\"True: {labels[i].item()} | Pred: {predictions[i].item()}\")\n",
    "    ax.axis(\"off\")\n",
    "\n",
    "plt.show()"
   ]
  },
  {
   "cell_type": "markdown",
   "metadata": {},
   "source": [
    "### Saving the Entire Model\n",
    "\n",
    "For deployment, we save the **entire model**, which allows us to:\n",
    "- Load it later without redefining the architecture.\n",
    "- Easily integrate it into an inference API.\n",
    "\n",
    "We use:\n",
    "- `torch.save(model, PATH)` → Saves the full model.\n",
    "- `torch.load(PATH)` → Loads the model directly."
   ]
  },
  {
   "cell_type": "code",
   "execution_count": 26,
   "metadata": {},
   "outputs": [
    {
     "name": "stdout",
     "output_type": "stream",
     "text": [
      "Full model saved to ../model/mnist_cnn_full.pth\n"
     ]
    }
   ],
   "source": [
    "# Define the path where the model will be saved\n",
    "full_model_path = \"../model/mnist_cnn_full.pth\"\n",
    "\n",
    "# Ensure the model directory exists\n",
    "os.makedirs(os.path.dirname(full_model_path), exist_ok=True)\n",
    "\n",
    "# Save the entire model\n",
    "torch.save(model, full_model_path)\n",
    "\n",
    "print(f\"Full model saved to {full_model_path}\")"
   ]
  },
  {
   "cell_type": "markdown",
   "metadata": {},
   "source": [
    "### Note: Loading the Entire Model\n",
    "\n",
    "For inference, we directly load the saved `.pth` model using:\n",
    "- `torch.load(PATH)` → Loads the entire model.\n",
    "- Moves the model to **GPU (if available)**.\n",
    "- Sets it to **evaluation mode** (`model.eval()`)."
   ]
  },
  {
   "cell_type": "code",
   "execution_count": 27,
   "metadata": {},
   "outputs": [
    {
     "name": "stdout",
     "output_type": "stream",
     "text": [
      "Full model loaded from ../model/mnist_cnn_full.pth\n"
     ]
    }
   ],
   "source": [
    "def load_full_model(model_path):\n",
    "    # Load the full model with weights_only=False\n",
    "    model = torch.load(model_path, map_location=device, weights_only=False)\n",
    "    \n",
    "    # Move model to GPU if available\n",
    "    model.to(device)\n",
    "    \n",
    "    # Set model to evaluation mode\n",
    "    model.eval()\n",
    "    \n",
    "    print(f\"Full model loaded from {model_path}\")\n",
    "    return model\n",
    "\n",
    "# Load the saved full model\n",
    "loaded_full_model = load_full_model(full_model_path)"
   ]
  },
  {
   "cell_type": "markdown",
   "metadata": {},
   "source": []
  }
 ],
 "metadata": {
  "kernelspec": {
   "display_name": "venv",
   "language": "python",
   "name": "python3"
  },
  "language_info": {
   "codemirror_mode": {
    "name": "ipython",
    "version": 3
   },
   "file_extension": ".py",
   "mimetype": "text/x-python",
   "name": "python",
   "nbconvert_exporter": "python",
   "pygments_lexer": "ipython3",
   "version": "3.12.3"
  }
 },
 "nbformat": 4,
 "nbformat_minor": 2
}
