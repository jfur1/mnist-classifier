{
 "cells": [
  {
   "cell_type": "markdown",
   "metadata": {},
   "source": [
    "### Verify CUDA is available for GPU"
   ]
  },
  {
   "cell_type": "code",
   "execution_count": null,
   "metadata": {},
   "outputs": [
    {
     "name": "stdout",
     "output_type": "stream",
     "text": [
      "CUDA is available.\n",
      "CUDA device name: NVIDIA GeForce RTX 3070\n"
     ]
    }
   ],
   "source": [
    "import torch\n",
    "\n",
    "if torch.cuda.is_available():\n",
    "    print(\"CUDA is available.\")\n",
    "    device_id = torch.cuda.current_device()\n",
    "    device_name = torch.cuda.get_device_name(device_id)\n",
    "    print(f\"CUDA device name: {device_name}\")\n",
    "else:\n",
    "    print(\"CUDA is not available.\")\n"
   ]
  },
  {
   "cell_type": "markdown",
   "metadata": {},
   "source": [
    "### Download Data\n",
    "\n",
    "The dataset used in this project is the **MNIST (Modified National Institute of Standards and Technology) dataset**, which contains **handwritten digits (0-9) in grayscale (28x28 pixels)**.\n",
    "\n",
    "- The dataset is downloaded from **torchvision.datasets.MNIST**, a PyTorch utility that handles dataset retrieval.\n",
    "- It is stored in a **binary IDX format**, rather than individual image files (e.g., PNG or JPG).\n",
    "- The raw dataset is located in `data/MNIST/raw/` and consists of the following files:\n",
    "    - `train-images-idx3-ubyte` → Training images\n",
    "    - `train-labels-idx1-ubyte` → Training labels (digits 0-9)\n",
    "    - `t10k-images-idx3-ubyte` → Test images\n",
    "    - `t10k-labels-idx1-ubyte` → Test labels\n",
    "\n",
    "To avoid unnecessary re-downloading, the script checks if these files already exist before downloading them."
   ]
  },
  {
   "cell_type": "code",
   "execution_count": 6,
   "metadata": {},
   "outputs": [
    {
     "name": "stdout",
     "output_type": "stream",
     "text": [
      "MNIST dataset already exists. Skipping download.\n",
      "Train set size: 60000 images\n",
      "Test set size: 10000 images\n"
     ]
    }
   ],
   "source": [
    "import os\n",
    "from torchvision import datasets, transforms\n",
    "from PIL import Image\n",
    "\n",
    "# Define the root data directory\n",
    "data_root = \"../data\"\n",
    "\n",
    "# Define expected MNIST data files\n",
    "mnist_files = [\n",
    "    \"MNIST/raw/train-images-idx3-ubyte\",\n",
    "    \"MNIST/raw/train-labels-idx1-ubyte\",\n",
    "    \"MNIST/raw/t10k-images-idx3-ubyte\",\n",
    "    \"MNIST/raw/t10k-labels-idx1-ubyte\"\n",
    "]\n",
    "\n",
    "# Check if MNIST data exists\n",
    "if all(os.path.exists(os.path.join(data_root, f)) for f in mnist_files):\n",
    "    print(\"MNIST dataset already exists. Skipping download.\")\n",
    "else:\n",
    "    print(\"Downloading MNIST dataset...\")\n",
    "\n",
    "# Define transformations (convert to tensor)\n",
    "transform = transforms.Compose([transforms.ToTensor()])\n",
    "\n",
    "# Load dataset\n",
    "train_dataset = datasets.MNIST(root=data_root, train=True, download=True, transform=transform)\n",
    "test_dataset = datasets.MNIST(root=data_root, train=False, download=True, transform=transform)\n",
    "\n",
    "print(f\"Train set size: {len(train_dataset)} images\")\n",
    "print(f\"Test set size: {len(test_dataset)} images\")"
   ]
  },
  {
   "cell_type": "markdown",
   "metadata": {},
   "source": [
    "### Print a sample image"
   ]
  },
  {
   "cell_type": "code",
   "execution_count": 7,
   "metadata": {},
   "outputs": [
    {
     "data": {
      "image/png": "[encoded data removed]",
      "text/plain": [
       "<Figure size 640x480 with 1 Axes>"
      ]
     },
     "metadata": {},
     "output_type": "display_data"
    }
   ],
   "source": [
    "import matplotlib.pyplot as plt\n",
    "from torchvision import transforms\n",
    "\n",
    "# Get a single sample image and label\n",
    "sample_img_tensor, label = train_dataset[0]\n",
    "\n",
    "# Convert tensor to PIL image in memory\n",
    "to_pil = transforms.ToPILImage()\n",
    "sample_img_pil = to_pil(sample_img_tensor)\n",
    "\n",
    "# Display the image\n",
    "plt.imshow(sample_img_pil, cmap=\"gray\")\n",
    "plt.title(f\"Sample Image - Label {label}\")\n",
    "plt.axis(\"off\")\n",
    "plt.show()"
   ]
  },
  {
   "cell_type": "code",
   "execution_count": null,
   "metadata": {},
   "outputs": [],
   "source": []
  }
 ],
 "metadata": {
  "kernelspec": {
   "display_name": "venv",
   "language": "python",
   "name": "python3"
  },
  "language_info": {
   "codemirror_mode": {
    "name": "ipython",
    "version": 3
   },
   "file_extension": ".py",
   "mimetype": "text/x-python",
   "name": "python",
   "nbconvert_exporter": "python",
   "pygments_lexer": "ipython3",
   "version": "3.12.3"
  }
 },
 "nbformat": 4,
 "nbformat_minor": 2
}
